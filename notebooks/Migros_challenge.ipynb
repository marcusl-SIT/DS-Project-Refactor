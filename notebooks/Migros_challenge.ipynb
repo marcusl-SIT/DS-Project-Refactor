{
 "cells": [
  {
   "cell_type": "code",
   "execution_count": 13,
   "id": "50dd5241",
   "metadata": {},
   "outputs": [],
   "source": [
    "def func1(d):\n",
    "    print('d is', d)"
   ]
  },
  {
   "cell_type": "code",
   "execution_count": 24,
   "id": "702ba01b",
   "metadata": {},
   "outputs": [
    {
     "name": "stdout",
     "output_type": "stream",
     "text": [
      "<class 'tuple'>\n"
     ]
    }
   ],
   "source": [
    "def func2(*args, **kwargs):\n",
    "    # if 'd' in kwargs:\n",
    "    #     func1(kwargs.get('d'))\n",
    "    # else:\n",
    "    #     print('No d arg')\n",
    "    #func1(**kwargs)\n",
    "    # func1(d = '32')\n",
    "    print(type(args))\n",
    "\n",
    "func2(1, 2, 89)"
   ]
  },
  {
   "cell_type": "code",
   "execution_count": 23,
   "id": "494286e0",
   "metadata": {},
   "outputs": [
    {
     "data": {
      "text/plain": [
       "{'a': 4, 'b': 7}"
      ]
     },
     "execution_count": 23,
     "metadata": {},
     "output_type": "execute_result"
    }
   ],
   "source": [
    "dict(a=4, b=7)"
   ]
  },
  {
   "cell_type": "code",
   "execution_count": 22,
   "id": "7fc337fb",
   "metadata": {},
   "outputs": [
    {
     "name": "stdout",
     "output_type": "stream",
     "text": [
      "1 2 3\n"
     ]
    }
   ],
   "source": [
    "args = {'a':4, 'b':7}\n",
    "pos_args = (1,2,3)\n",
    "\n",
    "func2(**args)\n",
    "func2(a=4, b=7)\n",
    "\n",
    "\n",
    "func2(*pos_args)\n",
    "func2(1,2,3)"
   ]
  },
  {
   "cell_type": "code",
   "execution_count": 6,
   "metadata": {},
   "outputs": [
    {
     "name": "stdout",
     "output_type": "stream",
     "text": [
      "{'a': 123, 'b': 'str', 'whatever': 'blah'}\n"
     ]
    }
   ],
   "source": [
    "#func1([1,2,3])\n",
    "\n",
    "func1(a=123,\n",
    "      b='str',\n",
    "      whatever='blah')"
   ]
  },
  {
   "cell_type": "code",
   "execution_count": null,
   "metadata": {},
   "outputs": [],
   "source": []
  },
  {
   "cell_type": "code",
   "execution_count": null,
   "id": "f024e434",
   "metadata": {},
   "outputs": [],
   "source": []
  },
  {
   "cell_type": "code",
   "execution_count": null,
   "metadata": {},
   "outputs": [],
   "source": []
  },
  {
   "cell_type": "code",
   "execution_count": null,
   "id": "bdc89d9a",
   "metadata": {},
   "outputs": [],
   "source": []
  },
  {
   "cell_type": "code",
   "execution_count": null,
   "id": "d535d342",
   "metadata": {},
   "outputs": [],
   "source": []
  },
  {
   "cell_type": "code",
   "execution_count": 1,
   "id": "e4ee522f-b6ef-4e2d-a48d-0fc9c792a6e6",
   "metadata": {},
   "outputs": [],
   "source": [
    "import pandas as pd\n",
    "from bs4 import BeautifulSoup\n",
    "from selenium import webdriver\n",
    "from selenium.webdriver.common.by import By\n",
    "from selenium.webdriver.support.ui import WebDriverWait\n",
    "from selenium.webdriver.support import expected_conditions as EC\n",
    "from selenium.webdriver.chrome.service import Service\n",
    "from selenium.common.exceptions import StaleElementReferenceException\n",
    "import time"
   ]
  },
  {
   "cell_type": "code",
   "execution_count": 2,
   "id": "af71eef3-cc09-4ba3-b60e-7613b1fd0a5c",
   "metadata": {},
   "outputs": [
    {
     "name": "stdout",
     "output_type": "stream",
     "text": [
      "774\n",
      "774\n"
     ]
    }
   ],
   "source": [
    "driver = webdriver.Chrome()\n",
    "driver.get(\"https://filialen.migros.ch/it/center:46.8182,8.2275/zoom:8/\")\n",
    "driver.fullscreen_window()\n",
    "filter_button_xpath = '//*[@id=\"storefinder\"]/main/nav/header/button[2]/span[2]'\n",
    "\n",
    "wait = WebDriverWait(driver, 10)\n",
    "filter_button = wait.until(EC.element_to_be_clickable((By.XPATH, filter_button_xpath)))\n",
    "filter_button.click()\n",
    "\n",
    "cookies_button_xpath = '//*[@id=\"onetrust-reject-all-handler\"]'\n",
    "cookies_button = wait.until(EC.element_to_be_clickable((By.XPATH, cookies_button_xpath)))\n",
    "cookies_button.click()\n",
    "\n",
    "time.sleep(2)\n",
    "\n",
    "\n",
    "supermarket_button_xpath = '//*[@id=\"markets\"]'\n",
    "supermarket_button = wait.until(EC.element_to_be_clickable((By.XPATH, supermarket_button_xpath)))\n",
    "supermarket_button.click()\n",
    "\n",
    "select_supermarket_xpath = '//*[@id=\"storefinder\"]/main/nav/div[2]/div/fieldset/label[1]/label/input'\n",
    "select_supermarket = wait.until(EC.element_to_be_clickable((By.XPATH, select_supermarket_xpath)))\n",
    "select_supermarket.click()\n",
    "\n",
    "show_supermarkets_xpath = '//*[@id=\"storefinder\"]/main/nav/footer/button/span'\n",
    "show_supermarkets = wait.until(EC.element_to_be_clickable((By.XPATH, show_supermarkets_xpath)))\n",
    "show_supermarkets.click()\n",
    "\n",
    "time.sleep(2)\n",
    "\n",
    "store_num_xpath = '//*[@id=\"storefinder\"]/main/nav/header/button[1]/span[1]'\n",
    "store_num = driver.find_element(By.XPATH, store_num_xpath).text.split(\" \")[0]\n",
    "print(store_num)\n",
    "\n",
    "ul_element_xpath = '//*[@id=\"msrc-storefinder-storelist\"]/div/ul'\n",
    "ul_element = wait.until(EC.presence_of_element_located((By.XPATH, ul_element_xpath)))\n",
    "div_element_xpath = '//*[@id=\"msrc-storefinder-storelist\"]/div'\n",
    "div_element = wait.until(EC.presence_of_element_located((By.XPATH, div_element_xpath)))\n",
    "\n",
    "address_list = set()\n",
    "\n",
    "while len(address_list) < int(store_num):\n",
    "    try:\n",
    "        div_element = driver.find_element(By.XPATH, div_element_xpath)\n",
    "        li_elements = div_element.find_elements(By.TAG_NAME, 'li')\n",
    "        for index, li in enumerate(li_elements, start=1):\n",
    "            p_text = li.find_element(By.XPATH, './a/div/p').text\n",
    "            address_list.add(p_text)\n",
    "        driver.execute_script(\"arguments[0].scrollTop += 400;\", div_element)\n",
    "    except StaleElementReferenceException:\n",
    "        div_element = driver.find_element(By.XPATH, div_element_xpath)\n",
    "\n",
    "print(len(address_list))\n",
    "driver.quit()"
   ]
  },
  {
   "cell_type": "code",
   "execution_count": 258,
   "id": "5e8ce741-9daa-4396-be3e-c29e46add752",
   "metadata": {},
   "outputs": [
    {
     "data": {
      "text/plain": [
       "774"
      ]
     },
     "execution_count": 258,
     "metadata": {},
     "output_type": "execute_result"
    }
   ],
   "source": [
    "address_list = list(address_list)\n",
    "len(address_list)"
   ]
  },
  {
   "cell_type": "code",
   "execution_count": 259,
   "id": "b25dc1ea-fd88-45c4-934a-7df1c8580dfc",
   "metadata": {},
   "outputs": [],
   "source": [
    "postal_codes = []\n",
    "cities = []\n",
    "\n",
    "for address in address_list:\n",
    "    address = address.replace(\",\",\"\").split(\" \")[::-1]\n",
    "    for item in address:\n",
    "        if all((char.isdigit() and len(item)>2) for char in item):\n",
    "            postal_codes.append(item)\n",
    "            ref_index = address.index(item)\n",
    "            ref_add = address[:ref_index]\n",
    "            ref_add_reversed = ref_add[::-1]\n",
    "            cities.append(\" \".join(ref_add_reversed))\n",
    "            break\n",
    "        else: \n",
    "            continue\n",
    "\n",
    "df_migros = pd.DataFrame({'address': address_list, 'postal_code': postal_codes, 'city': cities, 'store_count':0})\n"
   ]
  },
  {
   "cell_type": "code",
   "execution_count": 260,
   "id": "a9fa6a67-a1fc-4702-b82b-d3e7bbe411b1",
   "metadata": {},
   "outputs": [],
   "source": [
    "df_migros['city'] = df_migros['city'].apply(lambda x: 'Emmen' if x=='Emmenbrücke' else x)\n",
    "df_migros['city'] = df_migros['city'].apply(lambda x: 'Langnau im Emmental' if x=='Langnau i. E.' else x)\n",
    "df_migros['city'] = df_migros['city'].apply(lambda x: 'Brig' if x=='Glis' else x)\n",
    "df_migros['city'] = df_migros['city'].apply(lambda x: 'Zürich' if x=='Zürich - Flughafen' else x)\n",
    "df_migros['city'] = df_migros['city'].apply(lambda x: 'Sempach' if 'Sempach' in x else x)\n",
    "df_migros['city'] = df_migros['city'].apply(lambda x: 'Genève' if 'Genève' in x else x)\n",
    "df_migros['city'] = df_migros['city'].apply(lambda x: 'Saint-Maurice' if 'St-Maurice' in x else x)\n",
    "df_migros['city'] = df_migros['city'].apply(lambda x: 'Saint Gallen' if 'St.Gallen' in x else x)\n",
    "df_migros['city'] = df_migros['city'].apply(lambda x: 'Sainte-Croix' if x=='Ste-Croix' else x)\n",
    "df_migros['city'] = df_migros['city'].apply(lambda x: 'Saint-Imier' if x=='St-Imier' else x)\n",
    "df_migros['city'] = df_migros['city'].apply(lambda x: 'Romanel-sur-Lausanne' if x=='Romanel-s-Lausanne' else x)\n",
    "df_migros['city'] = df_migros['city'].apply(lambda x: 'Lancy' if 'Lancy' in x else x)\n",
    "df_migros['city'] = df_migros['city'].apply(lambda x: 'Ostermundigen' if x=='Ostermundigen 1' in x else x)\n",
    "df_migros['city'] = df_migros['city'].apply(lambda x: 'Renens' if x=='Chavannes-Renens' in x else x)\n",
    "df_migros['city'] = df_migros['city'].apply(lambda x: 'Bussigny' if x=='Bussigny-Lausanne' in x else x)\n",
    "\n"
   ]
  },
  {
   "cell_type": "code",
   "execution_count": 261,
   "id": "8fed4b3f-a0f3-4b8c-a4f4-aa821bdc732f",
   "metadata": {},
   "outputs": [
    {
     "data": {
      "text/html": [
       "<div>\n",
       "<style scoped>\n",
       "    .dataframe tbody tr th:only-of-type {\n",
       "        vertical-align: middle;\n",
       "    }\n",
       "\n",
       "    .dataframe tbody tr th {\n",
       "        vertical-align: top;\n",
       "    }\n",
       "\n",
       "    .dataframe thead th {\n",
       "        text-align: right;\n",
       "    }\n",
       "</style>\n",
       "<table border=\"1\" class=\"dataframe\">\n",
       "  <thead>\n",
       "    <tr style=\"text-align: right;\">\n",
       "      <th></th>\n",
       "      <th>address</th>\n",
       "      <th>postal_code</th>\n",
       "      <th>city</th>\n",
       "      <th>store_count</th>\n",
       "    </tr>\n",
       "  </thead>\n",
       "  <tbody>\n",
       "    <tr>\n",
       "      <th>131</th>\n",
       "      <td>Kantonsstrasse 58, 3902 Glis</td>\n",
       "      <td>3902</td>\n",
       "      <td>Brig</td>\n",
       "      <td>0</td>\n",
       "    </tr>\n",
       "  </tbody>\n",
       "</table>\n",
       "</div>"
      ],
      "text/plain": [
       "                          address postal_code  city  store_count\n",
       "131  Kantonsstrasse 58, 3902 Glis        3902  Brig            0"
      ]
     },
     "execution_count": 261,
     "metadata": {},
     "output_type": "execute_result"
    }
   ],
   "source": [
    "filtered_df = df_migros[df_migros['address'].str.contains('Glis')]\n",
    "filtered_df"
   ]
  },
  {
   "cell_type": "code",
   "execution_count": 262,
   "id": "334a175d-a2f1-4d51-aa41-4ea6a4d11aa1",
   "metadata": {},
   "outputs": [
    {
     "data": {
      "text/html": [
       "<div>\n",
       "<style scoped>\n",
       "    .dataframe tbody tr th:only-of-type {\n",
       "        vertical-align: middle;\n",
       "    }\n",
       "\n",
       "    .dataframe tbody tr th {\n",
       "        vertical-align: top;\n",
       "    }\n",
       "\n",
       "    .dataframe thead th {\n",
       "        text-align: right;\n",
       "    }\n",
       "</style>\n",
       "<table border=\"1\" class=\"dataframe\">\n",
       "  <thead>\n",
       "    <tr style=\"text-align: right;\">\n",
       "      <th></th>\n",
       "      <th>address</th>\n",
       "      <th>postal_code</th>\n",
       "      <th>city</th>\n",
       "      <th>store_count</th>\n",
       "      <th>population</th>\n",
       "      <th>coordinates</th>\n",
       "    </tr>\n",
       "  </thead>\n",
       "  <tbody>\n",
       "    <tr>\n",
       "      <th>0</th>\n",
       "      <td>Schaffhauserstrasse 470, 8052 Zürich</td>\n",
       "      <td>8052</td>\n",
       "      <td>Zürich</td>\n",
       "      <td>41</td>\n",
       "      <td>341730.0</td>\n",
       "      <td>47.36667, 8.55</td>\n",
       "    </tr>\n",
       "    <tr>\n",
       "      <th>1</th>\n",
       "      <td>Route d'Englisberg 15b, 1763 Granges-Paccot</td>\n",
       "      <td>1763</td>\n",
       "      <td>Granges-Paccot</td>\n",
       "      <td>0</td>\n",
       "      <td>NaN</td>\n",
       "      <td>NaN</td>\n",
       "    </tr>\n",
       "    <tr>\n",
       "      <th>2</th>\n",
       "      <td>Bahnhofstrasse 2, 8355 Aadorf</td>\n",
       "      <td>8355</td>\n",
       "      <td>Aadorf</td>\n",
       "      <td>1</td>\n",
       "      <td>7620.0</td>\n",
       "      <td>47.49204, 8.90099</td>\n",
       "    </tr>\n",
       "    <tr>\n",
       "      <th>3</th>\n",
       "      <td>Hintermühlenstrasse 4, 8409 Winterthur</td>\n",
       "      <td>8409</td>\n",
       "      <td>Winterthur</td>\n",
       "      <td>11</td>\n",
       "      <td>91908.0</td>\n",
       "      <td>47.50564, 8.72413</td>\n",
       "    </tr>\n",
       "    <tr>\n",
       "      <th>4</th>\n",
       "      <td>Hertensteinstrasse 9, 6004 Luzern</td>\n",
       "      <td>6004</td>\n",
       "      <td>Luzern</td>\n",
       "      <td>14</td>\n",
       "      <td>81691.0</td>\n",
       "      <td>47.05048, 8.30635</td>\n",
       "    </tr>\n",
       "    <tr>\n",
       "      <th>...</th>\n",
       "      <td>...</td>\n",
       "      <td>...</td>\n",
       "      <td>...</td>\n",
       "      <td>...</td>\n",
       "      <td>...</td>\n",
       "      <td>...</td>\n",
       "    </tr>\n",
       "    <tr>\n",
       "      <th>769</th>\n",
       "      <td>Rue de la Gare 7, 1347 Le Sentier</td>\n",
       "      <td>1347</td>\n",
       "      <td>Le Sentier</td>\n",
       "      <td>0</td>\n",
       "      <td>NaN</td>\n",
       "      <td>NaN</td>\n",
       "    </tr>\n",
       "    <tr>\n",
       "      <th>770</th>\n",
       "      <td>Rue de la Chapalette 1, 1933 Sembrancher</td>\n",
       "      <td>1933</td>\n",
       "      <td>Sembrancher</td>\n",
       "      <td>0</td>\n",
       "      <td>NaN</td>\n",
       "      <td>NaN</td>\n",
       "    </tr>\n",
       "    <tr>\n",
       "      <th>771</th>\n",
       "      <td>Via al Giardino 4, 6598 Tenero</td>\n",
       "      <td>6598</td>\n",
       "      <td>Tenero</td>\n",
       "      <td>0</td>\n",
       "      <td>NaN</td>\n",
       "      <td>NaN</td>\n",
       "    </tr>\n",
       "    <tr>\n",
       "      <th>772</th>\n",
       "      <td>Rue des Paquis 41, 1201 Genève</td>\n",
       "      <td>1201</td>\n",
       "      <td>Genève</td>\n",
       "      <td>17</td>\n",
       "      <td>183981.0</td>\n",
       "      <td>46.20222, 6.14569</td>\n",
       "    </tr>\n",
       "    <tr>\n",
       "      <th>773</th>\n",
       "      <td>Igelweid 18, 5000 Aarau</td>\n",
       "      <td>5000</td>\n",
       "      <td>Aarau</td>\n",
       "      <td>2</td>\n",
       "      <td>15501.0</td>\n",
       "      <td>47.39254, 8.04422</td>\n",
       "    </tr>\n",
       "  </tbody>\n",
       "</table>\n",
       "<p>774 rows × 6 columns</p>\n",
       "</div>"
      ],
      "text/plain": [
       "                                         address postal_code            city  \\\n",
       "0           Schaffhauserstrasse 470, 8052 Zürich        8052          Zürich   \n",
       "1    Route d'Englisberg 15b, 1763 Granges-Paccot        1763  Granges-Paccot   \n",
       "2                  Bahnhofstrasse 2, 8355 Aadorf        8355          Aadorf   \n",
       "3         Hintermühlenstrasse 4, 8409 Winterthur        8409      Winterthur   \n",
       "4              Hertensteinstrasse 9, 6004 Luzern        6004          Luzern   \n",
       "..                                           ...         ...             ...   \n",
       "769            Rue de la Gare 7, 1347 Le Sentier        1347      Le Sentier   \n",
       "770     Rue de la Chapalette 1, 1933 Sembrancher        1933     Sembrancher   \n",
       "771               Via al Giardino 4, 6598 Tenero        6598          Tenero   \n",
       "772               Rue des Paquis 41, 1201 Genève        1201          Genève   \n",
       "773                      Igelweid 18, 5000 Aarau        5000           Aarau   \n",
       "\n",
       "     store_count  population        coordinates  \n",
       "0             41    341730.0     47.36667, 8.55  \n",
       "1              0         NaN                NaN  \n",
       "2              1      7620.0  47.49204, 8.90099  \n",
       "3             11     91908.0  47.50564, 8.72413  \n",
       "4             14     81691.0  47.05048, 8.30635  \n",
       "..           ...         ...                ...  \n",
       "769            0         NaN                NaN  \n",
       "770            0         NaN                NaN  \n",
       "771            0         NaN                NaN  \n",
       "772           17    183981.0  46.20222, 6.14569  \n",
       "773            2     15501.0  47.39254, 8.04422  \n",
       "\n",
       "[774 rows x 6 columns]"
      ]
     },
     "execution_count": 262,
     "metadata": {},
     "output_type": "execute_result"
    }
   ],
   "source": [
    "file_path = 'geonames-all-cities-with-a-population-1000-2.csv'\n",
    "df_geonames = pd.read_csv(file_path, sep=';')\n",
    "df_geonames['Alternate Names'] = df_geonames['Alternate Names'].apply(lambda x: x.split(\",\") if pd.notna(x) else None)\n",
    "\n",
    "for city in df_migros['city']:\n",
    "    if city in df_geonames['Name'].values:\n",
    "        index_df_geonames = df_geonames.loc[df_geonames['Name'] == city].index[0]\n",
    "        population = df_geonames.iloc[index_df_geonames, df_geonames.columns.get_loc('Population')]\n",
    "        coordinates = df_geonames.iloc[index_df_geonames, df_geonames.columns.get_loc('Coordinates')]\n",
    "        df_migros.loc[df_migros['city'] == city, 'population'] = population\n",
    "        df_migros.loc[df_migros['city'] == city, 'coordinates'] = coordinates\n",
    "        df_migros.loc[df_migros['coordinates'] == coordinates, 'store_count'] += 1\n",
    "    elif city in df_geonames['ASCII Name'].values:\n",
    "        index_df_geonames = df_geonames.loc[df_geonames['ASCII Name'] == city].index[0]\n",
    "        population = df_geonames.iloc[index_df_geonames, df_geonames.columns.get_loc('Population')]\n",
    "        coordinates = df_geonames.iloc[index_df_geonames, df_geonames.columns.get_loc('Coordinates')]\n",
    "        df_migros.loc[df_migros['city'] == city, 'population'] = population\n",
    "        df_migros.loc[df_migros['city'] == city, 'coordinates'] = coordinates\n",
    "        df_migros.loc[df_migros['coordinates'] == coordinates, 'store_count'] += 1\n",
    "    else:\n",
    "        for index, alternate_names in enumerate(df_geonames['Alternate Names'].values):\n",
    "            if alternate_names!=None and city in alternate_names:\n",
    "                index_df_geonames = index\n",
    "                population = df_geonames.iloc[index_df_geonames, df_geonames.columns.get_loc('Population')]\n",
    "                coordinates = df_geonames.iloc[index_df_geonames, df_geonames.columns.get_loc('Coordinates')]\n",
    "                df_migros.loc[df_migros['city'] == city, 'population'] = population\n",
    "                df_migros.loc[df_migros['city'] == city, 'coordinates'] = coordinates\n",
    "                df_migros.loc[df_migros['coordinates'] == coordinates, 'store_count'] += 1\n",
    "df_migros"
   ]
  },
  {
   "cell_type": "code",
   "execution_count": 263,
   "id": "c6b40565-4d04-42e5-8b9d-eed4218ece30",
   "metadata": {},
   "outputs": [
    {
     "data": {
      "text/plain": [
       "522"
      ]
     },
     "execution_count": 263,
     "metadata": {},
     "output_type": "execute_result"
    }
   ],
   "source": [
    "df_test1 = set(df_migros['city'])\n",
    "len(df_test1)"
   ]
  },
  {
   "cell_type": "code",
   "execution_count": 264,
   "id": "f0744b8b-cc04-4ef0-8c75-95f4f29c7246",
   "metadata": {},
   "outputs": [
    {
     "data": {
      "text/html": [
       "<div>\n",
       "<style scoped>\n",
       "    .dataframe tbody tr th:only-of-type {\n",
       "        vertical-align: middle;\n",
       "    }\n",
       "\n",
       "    .dataframe tbody tr th {\n",
       "        vertical-align: top;\n",
       "    }\n",
       "\n",
       "    .dataframe thead th {\n",
       "        text-align: right;\n",
       "    }\n",
       "</style>\n",
       "<table border=\"1\" class=\"dataframe\">\n",
       "  <thead>\n",
       "    <tr style=\"text-align: right;\">\n",
       "      <th></th>\n",
       "      <th>city</th>\n",
       "      <th>migros_count</th>\n",
       "      <th>population</th>\n",
       "      <th>coordinates</th>\n",
       "    </tr>\n",
       "  </thead>\n",
       "  <tbody>\n",
       "    <tr>\n",
       "      <th>0</th>\n",
       "      <td>Zürich</td>\n",
       "      <td>41</td>\n",
       "      <td>341730.0</td>\n",
       "      <td>47.36667, 8.55</td>\n",
       "    </tr>\n",
       "    <tr>\n",
       "      <th>2</th>\n",
       "      <td>Aadorf</td>\n",
       "      <td>1</td>\n",
       "      <td>7620.0</td>\n",
       "      <td>47.49204, 8.90099</td>\n",
       "    </tr>\n",
       "    <tr>\n",
       "      <th>3</th>\n",
       "      <td>Winterthur</td>\n",
       "      <td>11</td>\n",
       "      <td>91908.0</td>\n",
       "      <td>47.50564, 8.72413</td>\n",
       "    </tr>\n",
       "    <tr>\n",
       "      <th>4</th>\n",
       "      <td>Luzern</td>\n",
       "      <td>14</td>\n",
       "      <td>81691.0</td>\n",
       "      <td>47.05048, 8.30635</td>\n",
       "    </tr>\n",
       "    <tr>\n",
       "      <th>5</th>\n",
       "      <td>Genève</td>\n",
       "      <td>17</td>\n",
       "      <td>183981.0</td>\n",
       "      <td>46.20222, 6.14569</td>\n",
       "    </tr>\n",
       "    <tr>\n",
       "      <th>...</th>\n",
       "      <td>...</td>\n",
       "      <td>...</td>\n",
       "      <td>...</td>\n",
       "      <td>...</td>\n",
       "    </tr>\n",
       "    <tr>\n",
       "      <th>762</th>\n",
       "      <td>Zuchwil</td>\n",
       "      <td>1</td>\n",
       "      <td>9268.0</td>\n",
       "      <td>47.20173, 7.56649</td>\n",
       "    </tr>\n",
       "    <tr>\n",
       "      <th>763</th>\n",
       "      <td>Le Landeron</td>\n",
       "      <td>1</td>\n",
       "      <td>4278.0</td>\n",
       "      <td>47.05702, 7.07052</td>\n",
       "    </tr>\n",
       "    <tr>\n",
       "      <th>764</th>\n",
       "      <td>Faido</td>\n",
       "      <td>1</td>\n",
       "      <td>1512.0</td>\n",
       "      <td>46.477, 8.80125</td>\n",
       "    </tr>\n",
       "    <tr>\n",
       "      <th>765</th>\n",
       "      <td>Adligenswil</td>\n",
       "      <td>1</td>\n",
       "      <td>5576.0</td>\n",
       "      <td>47.06521, 8.36124</td>\n",
       "    </tr>\n",
       "    <tr>\n",
       "      <th>768</th>\n",
       "      <td>Heimberg</td>\n",
       "      <td>1</td>\n",
       "      <td>5501.0</td>\n",
       "      <td>46.79482, 7.60433</td>\n",
       "    </tr>\n",
       "  </tbody>\n",
       "</table>\n",
       "<p>436 rows × 4 columns</p>\n",
       "</div>"
      ],
      "text/plain": [
       "            city  migros_count  population        coordinates\n",
       "0         Zürich            41    341730.0     47.36667, 8.55\n",
       "2         Aadorf             1      7620.0  47.49204, 8.90099\n",
       "3     Winterthur            11     91908.0  47.50564, 8.72413\n",
       "4         Luzern            14     81691.0  47.05048, 8.30635\n",
       "5         Genève            17    183981.0  46.20222, 6.14569\n",
       "..           ...           ...         ...                ...\n",
       "762      Zuchwil             1      9268.0  47.20173, 7.56649\n",
       "763  Le Landeron             1      4278.0  47.05702, 7.07052\n",
       "764        Faido             1      1512.0    46.477, 8.80125\n",
       "765  Adligenswil             1      5576.0  47.06521, 8.36124\n",
       "768     Heimberg             1      5501.0  46.79482, 7.60433\n",
       "\n",
       "[436 rows x 4 columns]"
      ]
     },
     "execution_count": 264,
     "metadata": {},
     "output_type": "execute_result"
    }
   ],
   "source": [
    "df_migros_noadd = df_migros.drop(columns=['address', 'postal_code'])\n",
    "df_final = df_migros_noadd.drop_duplicates()\n",
    "df_final = df_final[df_final['store_count'] != 0]\n",
    "df_final.rename(columns={'store_count': 'migros_count'}, inplace=True)\n",
    "df_final"
   ]
  },
  {
   "cell_type": "code",
   "execution_count": 265,
   "id": "057e0d93-ee13-4dc5-bac2-ca9c7bc53c86",
   "metadata": {},
   "outputs": [],
   "source": [
    "df_final.to_csv('df_migros.csv', index=False)"
   ]
  },
  {
   "cell_type": "code",
   "execution_count": 266,
   "id": "00bc3889-9bd2-4db0-a2c2-6add4433be38",
   "metadata": {},
   "outputs": [
    {
     "data": {
      "text/plain": [
       "436"
      ]
     },
     "execution_count": 266,
     "metadata": {},
     "output_type": "execute_result"
    }
   ],
   "source": [
    "df_test2 = set(df_final['city'])\n",
    "len(df_test2)"
   ]
  },
  {
   "cell_type": "code",
   "execution_count": 267,
   "id": "653e0192-670a-48f9-95d5-802efc4211a2",
   "metadata": {},
   "outputs": [],
   "source": [
    "missing_cities = df_test1 - df_test2"
   ]
  },
  {
   "cell_type": "code",
   "execution_count": 268,
   "id": "993254b0-feb4-4795-ab57-288ef6f78dfc",
   "metadata": {},
   "outputs": [
    {
     "data": {
      "text/plain": [
       "86"
      ]
     },
     "execution_count": 268,
     "metadata": {},
     "output_type": "execute_result"
    }
   ],
   "source": [
    "len(missing_cities)"
   ]
  },
  {
   "cell_type": "code",
   "execution_count": null,
   "id": "e29dfb74-1016-4f48-9190-5ce4674a4728",
   "metadata": {},
   "outputs": [],
   "source": []
  }
 ],
 "metadata": {
  "kernelspec": {
   "display_name": "Python 3",
   "language": "python",
   "name": "python3"
  },
  "language_info": {
   "codemirror_mode": {
    "name": "ipython",
    "version": 3
   },
   "file_extension": ".py",
   "mimetype": "text/x-python",
   "name": "python",
   "nbconvert_exporter": "python",
   "pygments_lexer": "ipython3",
   "version": "3.12.1"
  }
 },
 "nbformat": 4,
 "nbformat_minor": 5
}
